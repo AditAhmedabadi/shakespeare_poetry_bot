{
 "cells": [
  {
   "cell_type": "markdown",
   "metadata": {},
   "source": [
    "## Importing Required Modules/Libraries"
   ]
  },
  {
   "cell_type": "code",
   "execution_count": 59,
   "metadata": {
    "colab": {
     "base_uri": "https://localhost:8080/"
    },
    "id": "sRITKVdXBkT-",
    "outputId": "013a723e-d053-4522-b680-4b93f38620bc"
   },
   "outputs": [
    {
     "name": "stdout",
     "output_type": "stream",
     "text": [
      "2.3.1\n"
     ]
    }
   ],
   "source": [
    "import numpy as np\n",
    "import matplotlib.pyplot as plt\n",
    "import tensorflow as tf\n",
    "from tensorflow.keras.preprocessing.text import Tokenizer\n",
    "from tensorflow.keras.preprocessing.sequence import pad_sequences\n",
    "from tensorflow.keras import Sequential\n",
    "from tensorflow.keras.utils import to_categorical\n",
    "from tensorflow.keras.layers import Embedding , Dense , Dropout , LSTM , Bidirectional\n",
    "from tensorflow.keras.regularizers import L2\n",
    "\n",
    "print(tf.__version__)"
   ]
  },
  {
   "cell_type": "markdown",
   "metadata": {},
   "source": [
    "### Reading Data from dataset"
   ]
  },
  {
   "cell_type": "code",
   "execution_count": 6,
   "metadata": {
    "id": "JuPpQckRCehc"
   },
   "outputs": [],
   "source": [
    "data = open('shakespeare_data.txt' , 'rt').read().lower().split(\"\\n\")"
   ]
  },
  {
   "cell_type": "markdown",
   "metadata": {},
   "source": [
    "### Init Tokenizer and fitting on dataset"
   ]
  },
  {
   "cell_type": "code",
   "execution_count": 7,
   "metadata": {
    "colab": {
     "base_uri": "https://localhost:8080/"
    },
    "id": "eEbw7BF2D-X7",
    "outputId": "62e588d2-c0d1-48ad-eaa0-818785fd6736"
   },
   "outputs": [
    {
     "data": {
      "text/plain": [
       "3211"
      ]
     },
     "execution_count": 7,
     "metadata": {},
     "output_type": "execute_result"
    }
   ],
   "source": [
    "tokenizer = Tokenizer()\n",
    "tokenizer.fit_on_texts(data)\n",
    "total_words = len(tokenizer.word_index) + 1\n",
    "total_words"
   ]
  },
  {
   "cell_type": "markdown",
   "metadata": {},
   "source": [
    "### Creating Input Sequences"
   ]
  },
  {
   "cell_type": "code",
   "execution_count": 8,
   "metadata": {
    "id": "jgSr9JleEBqk"
   },
   "outputs": [],
   "source": [
    "input_sequences = []\n",
    "for line in data:\n",
    "  token_list=  tokenizer.texts_to_sequences([line])[0]\n",
    "  for i in range(1, len(token_list)):\n",
    "    n_gram_sequences = token_list[:i+1]\n",
    "    input_sequences.append(n_gram_sequences)"
   ]
  },
  {
   "cell_type": "markdown",
   "metadata": {},
   "source": [
    "## Creating Padded Sequences"
   ]
  },
  {
   "cell_type": "code",
   "execution_count": 9,
   "metadata": {
    "colab": {
     "base_uri": "https://localhost:8080/"
    },
    "id": "La14vloFLSl4",
    "outputId": "4a2dd6aa-b705-4b1c-daa3-68c7a88ad333"
   },
   "outputs": [
    {
     "data": {
      "text/plain": [
       "(15462, 11)"
      ]
     },
     "execution_count": 9,
     "metadata": {},
     "output_type": "execute_result"
    }
   ],
   "source": [
    "max_seq_len = max([len(x) for x in input_sequences])\n",
    "input_sequences = pad_sequences(input_sequences , padding = 'pre' , maxlen = max_seq_len)\n",
    "input_sequences = np.asarray(input_sequences)\n",
    "input_sequences.shape"
   ]
  },
  {
   "cell_type": "code",
   "execution_count": 10,
   "metadata": {
    "colab": {
     "base_uri": "https://localhost:8080/"
    },
    "id": "82go2z7xMAad",
    "outputId": "5906aa12-2650-46c9-91ee-31bcb66d4671"
   },
   "outputs": [
    {
     "name": "stdout",
     "output_type": "stream",
     "text": [
      "(15462, 10) (15462,)\n"
     ]
    }
   ],
   "source": [
    "X = input_sequences[: , :-1]\n",
    "y = input_sequences[: , -1]\n",
    "print(X.shape , y.shape)\n",
    "y_label = to_categorical(y , num_classes = total_words)"
   ]
  },
  {
   "cell_type": "markdown",
   "metadata": {},
   "source": [
    "### Creating DNN Model"
   ]
  },
  {
   "cell_type": "code",
   "execution_count": 11,
   "metadata": {
    "colab": {
     "base_uri": "https://localhost:8080/"
    },
    "id": "IToLCbuWMSL1",
    "outputId": "eeea15a1-8c36-4a55-d8dd-f2d128219d8e"
   },
   "outputs": [
    {
     "name": "stdout",
     "output_type": "stream",
     "text": [
      "Model: \"sequential\"\n",
      "_________________________________________________________________\n",
      "Layer (type)                 Output Shape              Param #   \n",
      "=================================================================\n",
      "embedding (Embedding)        (None, None, 128)         411008    \n",
      "_________________________________________________________________\n",
      "bidirectional (Bidirectional (None, None, 256)         263168    \n",
      "_________________________________________________________________\n",
      "dropout (Dropout)            (None, None, 256)         0         \n",
      "_________________________________________________________________\n",
      "bidirectional_1 (Bidirection (None, 512)               1050624   \n",
      "_________________________________________________________________\n",
      "dense (Dense)                (None, 512)               262656    \n",
      "_________________________________________________________________\n",
      "dense_1 (Dense)              (None, 3211)              1647243   \n",
      "=================================================================\n",
      "Total params: 3,634,699\n",
      "Trainable params: 3,634,699\n",
      "Non-trainable params: 0\n",
      "_________________________________________________________________\n",
      "None\n"
     ]
    }
   ],
   "source": [
    "model = Sequential()\n",
    "model.add(Embedding(total_words , 128))\n",
    "model.add(Bidirectional(LSTM(128 , activation = 'relu' , return_sequences=True)))\n",
    "model.add(Dropout(0.8))\n",
    "model.add(Bidirectional(LSTM(256 , activation = 'relu')))\n",
    "model.add(Dense(512 , activation = 'relu'))\n",
    "model.add(Dense(total_words , activation = 'softmax'))\n",
    "# Pick an optimizer\n",
    "model.compile(optimizer = 'adam' , loss = 'categorical_crossentropy' , metrics = ['accuracy'] )\n",
    "print(model.summary())\n"
   ]
  },
  {
   "cell_type": "markdown",
   "metadata": {},
   "source": [
    "### Compiling the model"
   ]
  },
  {
   "cell_type": "code",
   "execution_count": 12,
   "metadata": {
    "id": "x-K6HBJcMqxj"
   },
   "outputs": [],
   "source": [
    "model.compile(optimizer = 'adam' , loss = 'categorical_crossentropy' , metrics = ['accuracy'])"
   ]
  },
  {
   "cell_type": "markdown",
   "metadata": {},
   "source": [
    "### Summary of the Model"
   ]
  },
  {
   "cell_type": "code",
   "execution_count": 13,
   "metadata": {
    "colab": {
     "base_uri": "https://localhost:8080/"
    },
    "id": "9PvHncnxQcTK",
    "outputId": "f8c21360-f3de-4830-fa44-ffb3253e1bda"
   },
   "outputs": [
    {
     "name": "stdout",
     "output_type": "stream",
     "text": [
      "Model: \"sequential\"\n",
      "_________________________________________________________________\n",
      "Layer (type)                 Output Shape              Param #   \n",
      "=================================================================\n",
      "embedding (Embedding)        (None, None, 128)         411008    \n",
      "_________________________________________________________________\n",
      "bidirectional (Bidirectional (None, None, 256)         263168    \n",
      "_________________________________________________________________\n",
      "dropout (Dropout)            (None, None, 256)         0         \n",
      "_________________________________________________________________\n",
      "bidirectional_1 (Bidirection (None, 512)               1050624   \n",
      "_________________________________________________________________\n",
      "dense (Dense)                (None, 512)               262656    \n",
      "_________________________________________________________________\n",
      "dense_1 (Dense)              (None, 3211)              1647243   \n",
      "=================================================================\n",
      "Total params: 3,634,699\n",
      "Trainable params: 3,634,699\n",
      "Non-trainable params: 0\n",
      "_________________________________________________________________\n"
     ]
    }
   ],
   "source": [
    "model.summary()"
   ]
  },
  {
   "cell_type": "markdown",
   "metadata": {},
   "source": [
    "### Fitting the model on data"
   ]
  },
  {
   "cell_type": "code",
   "execution_count": 14,
   "metadata": {
    "colab": {
     "base_uri": "https://localhost:8080/"
    },
    "id": "EjFGyfnnQ_WO",
    "outputId": "edc60fcf-4180-428e-e50f-969336ee938f"
   },
   "outputs": [
    {
     "name": "stdout",
     "output_type": "stream",
     "text": [
      "Epoch 1/100\n",
      "484/484 [==============================] - 31s 63ms/step - loss: 6.8793 - accuracy: 0.0224\n",
      "Epoch 2/100\n",
      "484/484 [==============================] - 31s 65ms/step - loss: 6.5197 - accuracy: 0.0225\n",
      "Epoch 3/100\n",
      "484/484 [==============================] - 32s 66ms/step - loss: 6.3898 - accuracy: 0.0258\n",
      "Epoch 4/100\n",
      "484/484 [==============================] - 31s 64ms/step - loss: 6.2647 - accuracy: 0.0301\n",
      "Epoch 5/100\n",
      "484/484 [==============================] - 32s 65ms/step - loss: 6.1613 - accuracy: 0.0358\n",
      "Epoch 6/100\n",
      "484/484 [==============================] - 30s 62ms/step - loss: 6.0521 - accuracy: 0.0407\n",
      "Epoch 7/100\n",
      "484/484 [==============================] - 29s 60ms/step - loss: 5.9160 - accuracy: 0.0492\n",
      "Epoch 8/100\n",
      "484/484 [==============================] - 31s 64ms/step - loss: 5.7605 - accuracy: 0.0552\n",
      "Epoch 9/100\n",
      "484/484 [==============================] - 30s 61ms/step - loss: 5.6021 - accuracy: 0.0612\n",
      "Epoch 10/100\n",
      "484/484 [==============================] - 28s 59ms/step - loss: 5.4538 - accuracy: 0.06671s - l - ETA: 0s - loss: 5.4533 - accuracy\n",
      "Epoch 11/100\n",
      "484/484 [==============================] - 29s 59ms/step - loss: 5.3073 - accuracy: 0.0745\n",
      "Epoch 12/100\n",
      "484/484 [==============================] - 29s 59ms/step - loss: 5.1673 - accuracy: 0.0827\n",
      "Epoch 13/100\n",
      "484/484 [==============================] - 29s 60ms/step - loss: 5.0164 - accuracy: 0.08960s - l\n",
      "Epoch 14/100\n",
      "484/484 [==============================] - 29s 60ms/step - loss: 4.8850 - accuracy: 0.1011\n",
      "Epoch 15/100\n",
      "484/484 [==============================] - 29s 60ms/step - loss: 4.7228 - accuracy: 0.1092\n",
      "Epoch 16/100\n",
      "484/484 [==============================] - 29s 60ms/step - loss: 4.6000 - accuracy: 0.1158\n",
      "Epoch 17/100\n",
      "484/484 [==============================] - 29s 60ms/step - loss: 4.4624 - accuracy: 0.1295\n",
      "Epoch 18/100\n",
      "484/484 [==============================] - 32s 66ms/step - loss: 4.3264 - accuracy: 0.1378\n",
      "Epoch 19/100\n",
      "484/484 [==============================] - 29s 60ms/step - loss: 4.1983 - accuracy: 0.1475\n",
      "Epoch 20/100\n",
      "484/484 [==============================] - 29s 60ms/step - loss: 4.0856 - accuracy: 0.1553\n",
      "Epoch 21/100\n",
      "484/484 [==============================] - 29s 60ms/step - loss: 3.9498 - accuracy: 0.1641\n",
      "Epoch 22/100\n",
      "484/484 [==============================] - 29s 60ms/step - loss: 3.8403 - accuracy: 0.17710s - l\n",
      "Epoch 23/100\n",
      "484/484 [==============================] - 29s 60ms/step - loss: 3.7484 - accuracy: 0.18420s - loss: 3.7486 - \n",
      "Epoch 24/100\n",
      "484/484 [==============================] - 29s 60ms/step - loss: 3.6321 - accuracy: 0.2006\n",
      "Epoch 25/100\n",
      "484/484 [==============================] - 29s 60ms/step - loss: 3.5231 - accuracy: 0.2086\n",
      "Epoch 26/100\n",
      "484/484 [==============================] - 30s 62ms/step - loss: 3.4410 - accuracy: 0.2233\n",
      "Epoch 27/100\n",
      "484/484 [==============================] - 30s 62ms/step - loss: 3.3560 - accuracy: 0.2343\n",
      "Epoch 28/100\n",
      "484/484 [==============================] - 32s 65ms/step - loss: 3.2487 - accuracy: 0.2491\n",
      "Epoch 29/100\n",
      "484/484 [==============================] - 31s 65ms/step - loss: 3.1620 - accuracy: 0.2609\n",
      "Epoch 30/100\n",
      "484/484 [==============================] - 31s 64ms/step - loss: 3.0918 - accuracy: 0.2717\n",
      "Epoch 31/100\n",
      "484/484 [==============================] - 31s 64ms/step - loss: 2.9859 - accuracy: 0.2877\n",
      "Epoch 32/100\n",
      "484/484 [==============================] - 31s 64ms/step - loss: 2.9308 - accuracy: 0.2989\n",
      "Epoch 33/100\n",
      "484/484 [==============================] - 32s 67ms/step - loss: 2.8885 - accuracy: 0.3009\n",
      "Epoch 34/100\n",
      "484/484 [==============================] - 32s 66ms/step - loss: 2.7853 - accuracy: 0.3253\n",
      "Epoch 35/100\n",
      "484/484 [==============================] - 31s 64ms/step - loss: 2.7111 - accuracy: 0.33622s - l\n",
      "Epoch 36/100\n",
      "484/484 [==============================] - 30s 62ms/step - loss: 2.6593 - accuracy: 0.3437\n",
      "Epoch 37/100\n",
      "484/484 [==============================] - 30s 62ms/step - loss: 2.5980 - accuracy: 0.3562\n",
      "Epoch 38/100\n",
      "484/484 [==============================] - 30s 62ms/step - loss: 2.5348 - accuracy: 0.3710\n",
      "Epoch 39/100\n",
      "484/484 [==============================] - 30s 62ms/step - loss: 2.4617 - accuracy: 0.3846\n",
      "Epoch 40/100\n",
      "484/484 [==============================] - 30s 62ms/step - loss: 2.4333 - accuracy: 0.3884\n",
      "Epoch 41/100\n",
      "484/484 [==============================] - 30s 62ms/step - loss: 2.3824 - accuracy: 0.3981\n",
      "Epoch 42/100\n",
      "484/484 [==============================] - 31s 65ms/step - loss: 2.3257 - accuracy: 0.4111\n",
      "Epoch 43/100\n",
      "484/484 [==============================] - 30s 63ms/step - loss: 2.2766 - accuracy: 0.4247\n",
      "Epoch 44/100\n",
      "484/484 [==============================] - 30s 63ms/step - loss: 2.2318 - accuracy: 0.4294\n",
      "Epoch 45/100\n",
      "484/484 [==============================] - 30s 63ms/step - loss: 2.1882 - accuracy: 0.4355\n",
      "Epoch 46/100\n",
      "484/484 [==============================] - 30s 63ms/step - loss: 2.1406 - accuracy: 0.4466\n",
      "Epoch 47/100\n",
      "484/484 [==============================] - 30s 62ms/step - loss: 2.1082 - accuracy: 0.4562\n",
      "Epoch 48/100\n",
      "484/484 [==============================] - 30s 63ms/step - loss: 2.0647 - accuracy: 0.4622\n",
      "Epoch 49/100\n",
      "484/484 [==============================] - 30s 62ms/step - loss: 2.0219 - accuracy: 0.4734\n",
      "Epoch 50/100\n",
      "484/484 [==============================] - 30s 62ms/step - loss: 1.9896 - accuracy: 0.4809\n",
      "Epoch 51/100\n",
      "484/484 [==============================] - 30s 63ms/step - loss: 1.9678 - accuracy: 0.4834\n",
      "Epoch 52/100\n",
      "484/484 [==============================] - 30s 62ms/step - loss: 1.9208 - accuracy: 0.49370s - loss: 1.9168 - accu\n",
      "Epoch 53/100\n",
      "484/484 [==============================] - 30s 62ms/step - loss: 1.8937 - accuracy: 0.4999\n",
      "Epoch 54/100\n",
      "484/484 [==============================] - 31s 65ms/step - loss: 1.8401 - accuracy: 0.5088\n",
      "Epoch 55/100\n",
      "484/484 [==============================] - 31s 65ms/step - loss: 1.8128 - accuracy: 0.5197\n",
      "Epoch 56/100\n",
      "484/484 [==============================] - 34s 70ms/step - loss: 1.7903 - accuracy: 0.5226\n",
      "Epoch 57/100\n",
      "484/484 [==============================] - 31s 65ms/step - loss: 1.7746 - accuracy: 0.5277\n",
      "Epoch 58/100\n",
      "484/484 [==============================] - 32s 66ms/step - loss: 1.7621 - accuracy: 0.5311\n",
      "Epoch 59/100\n",
      "484/484 [==============================] - 31s 64ms/step - loss: 1.7070 - accuracy: 0.5369\n",
      "Epoch 60/100\n",
      "484/484 [==============================] - 31s 64ms/step - loss: 1.6753 - accuracy: 0.5519\n",
      "Epoch 61/100\n",
      "484/484 [==============================] - 31s 63ms/step - loss: 1.6571 - accuracy: 0.5542\n",
      "Epoch 62/100\n",
      "484/484 [==============================] - 30s 63ms/step - loss: 1.6117 - accuracy: 0.5644\n",
      "Epoch 63/100\n",
      "484/484 [==============================] - 31s 64ms/step - loss: 1.6031 - accuracy: 0.5662\n",
      "Epoch 64/100\n",
      "484/484 [==============================] - 31s 64ms/step - loss: 1.5749 - accuracy: 0.5755\n",
      "Epoch 65/100\n",
      "484/484 [==============================] - 31s 63ms/step - loss: 1.5825 - accuracy: 0.5691\n",
      "Epoch 66/100\n",
      "484/484 [==============================] - 31s 63ms/step - loss: 1.5416 - accuracy: 0.5795\n",
      "Epoch 67/100\n",
      "484/484 [==============================] - 31s 63ms/step - loss: 1.5031 - accuracy: 0.5918\n",
      "Epoch 68/100\n",
      "484/484 [==============================] - 31s 64ms/step - loss: 1.4954 - accuracy: 0.5958\n",
      "Epoch 69/100\n",
      "484/484 [==============================] - 31s 63ms/step - loss: 1.4697 - accuracy: 0.5988\n",
      "Epoch 70/100\n",
      "484/484 [==============================] - 31s 64ms/step - loss: 1.4675 - accuracy: 0.6014\n",
      "Epoch 71/100\n",
      "484/484 [==============================] - 30s 63ms/step - loss: 1.4786 - accuracy: 0.5947\n",
      "Epoch 72/100\n",
      "484/484 [==============================] - 30s 63ms/step - loss: 1.4165 - accuracy: 0.6133\n",
      "Epoch 73/100\n",
      "484/484 [==============================] - 31s 63ms/step - loss: 1.3871 - accuracy: 0.6177\n",
      "Epoch 74/100\n",
      "484/484 [==============================] - 30s 63ms/step - loss: 1.3795 - accuracy: 0.6220\n",
      "Epoch 75/100\n",
      "484/484 [==============================] - 30s 63ms/step - loss: 1.3873 - accuracy: 0.6205\n",
      "Epoch 76/100\n",
      "484/484 [==============================] - 30s 62ms/step - loss: 1.3404 - accuracy: 0.6258\n",
      "Epoch 77/100\n",
      "484/484 [==============================] - 30s 63ms/step - loss: 1.3467 - accuracy: 0.6291\n",
      "Epoch 78/100\n"
     ]
    },
    {
     "name": "stdout",
     "output_type": "stream",
     "text": [
      "484/484 [==============================] - 34s 71ms/step - loss: 1.3323 - accuracy: 0.6362\n",
      "Epoch 79/100\n",
      "484/484 [==============================] - 31s 65ms/step - loss: 1.3052 - accuracy: 0.6376\n",
      "Epoch 80/100\n",
      "484/484 [==============================] - 31s 64ms/step - loss: 1.2940 - accuracy: 0.6467\n",
      "Epoch 81/100\n",
      "484/484 [==============================] - 32s 65ms/step - loss: 1.2410 - accuracy: 0.6583\n",
      "Epoch 82/100\n",
      "484/484 [==============================] - 31s 64ms/step - loss: 1.2565 - accuracy: 0.6502\n",
      "Epoch 83/100\n",
      "484/484 [==============================] - 31s 64ms/step - loss: 1.2532 - accuracy: 0.6528\n",
      "Epoch 84/100\n",
      "484/484 [==============================] - 31s 64ms/step - loss: 1.2472 - accuracy: 0.6522\n",
      "Epoch 85/100\n",
      "484/484 [==============================] - 31s 64ms/step - loss: 1.2355 - accuracy: 0.6603\n",
      "Epoch 86/100\n",
      "484/484 [==============================] - 31s 64ms/step - loss: 1.2142 - accuracy: 0.6638\n",
      "Epoch 87/100\n",
      "484/484 [==============================] - 32s 66ms/step - loss: 1.1766 - accuracy: 0.6766\n",
      "Epoch 88/100\n",
      "484/484 [==============================] - 31s 65ms/step - loss: 1.1962 - accuracy: 0.6671\n",
      "Epoch 89/100\n",
      "484/484 [==============================] - 31s 65ms/step - loss: 1.1818 - accuracy: 0.6769\n",
      "Epoch 90/100\n",
      "484/484 [==============================] - 31s 65ms/step - loss: 1.1798 - accuracy: 0.6755\n",
      "Epoch 91/100\n",
      "484/484 [==============================] - 31s 65ms/step - loss: 1.1545 - accuracy: 0.6781\n",
      "Epoch 92/100\n",
      "484/484 [==============================] - 31s 65ms/step - loss: 1.1668 - accuracy: 0.6748\n",
      "Epoch 93/100\n",
      "484/484 [==============================] - 32s 67ms/step - loss: 1.1430 - accuracy: 0.6851\n",
      "Epoch 94/100\n",
      "484/484 [==============================] - 35s 72ms/step - loss: 1.1264 - accuracy: 0.6895\n",
      "Epoch 95/100\n",
      "484/484 [==============================] - 36s 74ms/step - loss: 1.1189 - accuracy: 0.6877\n",
      "Epoch 96/100\n",
      "484/484 [==============================] - 35s 72ms/step - loss: 1.1022 - accuracy: 0.6905\n",
      "Epoch 97/100\n",
      "484/484 [==============================] - 35s 72ms/step - loss: 1.0985 - accuracy: 0.6912\n",
      "Epoch 98/100\n",
      "484/484 [==============================] - 34s 69ms/step - loss: 1.0812 - accuracy: 0.6959\n",
      "Epoch 99/100\n",
      "484/484 [==============================] - 31s 65ms/step - loss: 1.0565 - accuracy: 0.7040\n",
      "Epoch 100/100\n",
      "484/484 [==============================] - 31s 64ms/step - loss: 1.0824 - accuracy: 0.7003\n"
     ]
    }
   ],
   "source": [
    "history = model.fit(\n",
    "    X,\n",
    "    y_label,\n",
    "    epochs = 100,\n",
    ")"
   ]
  },
  {
   "cell_type": "markdown",
   "metadata": {},
   "source": [
    "## Analysing Loss and Accuracy over epochs "
   ]
  },
  {
   "cell_type": "code",
   "execution_count": 23,
   "metadata": {
    "id": "sj8xNGoXQ6Jg"
   },
   "outputs": [
    {
     "data": {
      "image/png": "[encoded data removed]",
      "text/plain": [
       "<Figure size 432x288 with 1 Axes>"
      ]
     },
     "metadata": {
      "needs_background": "light"
     },
     "output_type": "display_data"
    },
    {
     "data": {
      "image/png": "[encoded data removed]",
      "text/plain": [
       "<Figure size 432x288 with 1 Axes>"
      ]
     },
     "metadata": {
      "needs_background": "light"
     },
     "output_type": "display_data"
    }
   ],
   "source": [
    " import matplotlib.pyplot as plt\n",
    "acc = history.history['accuracy']\n",
    "loss = history.history['loss']\n",
    "\n",
    "epochs = range(len(acc))\n",
    "\n",
    "plt.plot(epochs, acc, 'b', label='Training accuracy')\n",
    "plt.title('Training accuracy')\n",
    "\n",
    "plt.figure()\n",
    "\n",
    "plt.plot(epochs, loss, 'b', label='Training Loss')\n",
    "plt.title('Training loss')\n",
    "plt.legend()\n",
    "\n",
    "plt.show()"
   ]
  },
  {
   "cell_type": "markdown",
   "metadata": {},
   "source": [
    "### Testing The Model , Shakespeare Poetry!"
   ]
  },
  {
   "cell_type": "code",
   "execution_count": 58,
   "metadata": {},
   "outputs": [
    {
     "name": "stdout",
     "output_type": "stream",
     "text": [
      "Hello my name is Luke fairest bare in high but to one behind her away thy granting bail shall lose both both and that doth one still new 'will ' old thy ' eyes thy 'will' enjoys it inhearse be bow bow woe lips go doth woe shall you can sit ill hate i know in thee so not behold thee so made so not so old so so made to me due of thee doth keep her wantonness told it bow bow woe ill go woe ill in thee doth foes say so long lies see good ' thee more more more are fled so took forth all thy grief ' shine bright forth so near shown bow bow lie my dear where in my rhyme truth of such hate dost in you say so more lies so so so made to one ever to me shown seen told in kings bow bow bent your deeds to night before razed prove torn both land rolling bent fullness with new lie me back to doubt thee not that in me that love i bold can bold writ me true dearer more more in their tongue shall still shine bright forth night to night of night away afloat rolling rolling rolling rolling rolling rolling rolling weeds woe ill seen seen now seen night seen decays rolling rolling rolling rolling rolling rolling bent fullness thee now seen night of rolling rolling rolling rolling rolling rolling rolling bent be thee light light seen lie decays of kings languish'd for her sight doth time so near woe ' woe or end now ill green forth room new green thy kindness know thy sight sheds sheds brought appear brought of woe had rolling greater greater than greater ' ' see more lies worse lived lived worse dearer dearer ill dear sight ' show room brought appear had bow bow bow rolling ' bent my blood keep lie razed appear of hate thence in it doth love thy sight receivest can decay abuse me survey bow bow bow resty ' fullness new lie forth of of doubt thee my rhyme and my all ever can live seen out razed shine lie thence it and so not of me so thy all more fled fled in room behind in sense men plight go amazeth fall thus back night to day decays rolling rolling rolling rolling rolling rolling rolling rolling rolling woe ill go cured dead dead well live seen seen now wit seen lie decays thence in sweet most dear great wit doth in weeds ill lie thence on thy sight is ' thee so dead is heart doth ill not free thy gain hath shine bright back seen told him hence in stay rolling rolling greater lie hate to loveliness sweet ' best so so not not lies or ill free old are free lost so gone behind in of hope behind my deserving men rehearse thy wit fled or thy verse doth cross brought appear appear woe dead lie decays on thence not of thee so so thy when in latch belongs to stand in appear appear decays decays ' bent in thy pain none fullness woe ' fullness ' ' now not you more more more are a waste of truth still still shown seen seen told afloat wealth lie sad well and than her of her ' wanting and in thy foes spend live told in doubt me made green so so so so old shall you can it fitted deem inhearse fitted near gone his cloying thence sweet wrong outworn seen held appear bristly beard land land far greater bow bow bow bow bow greater go cured bow woe tell hath seen seen seen seen night gather'd she had rolling rolling shall burn rolling rolling rolling rolling rolling rolling rolling rolling rolling rolling woe ill go cured dead dead well live seen seen now wit seen lie decays thence in sweet most dear great wit doth in weeds ill lie thence on thy sight is ' thee so dead is heart doth ill not free thy gain hath shine bright back seen told him hence in stay rolling rolling greater lie hate to loveliness sweet ' best so so not not lies or ill free old are free lost so gone behind in of hope behind my deserving men rehearse thy wit fled or thy verse doth cross brought appear appear woe dead lie decays on thence not of thee so so thy when in latch belongs to stand in appear appear decays decays ' bent in thy pain none fullness woe ' fullness ' ' now not you more more more are a waste of truth still still shown seen seen told afloat wealth lie sad well and than her of her ' wanting and in thy foes spend live told in doubt me made green so so so so old shall you can it fitted deem inhearse fitted near gone his cloying thence sweet wrong outworn seen held appear bristly beard land land far greater bow bow bow bow bow greater go cured bow woe tell hath seen seen seen seen night gather'd she had rolling rolling shall burn rolling rolling rolling rolling rolling rolling rolling rolling rolling rolling woe ill go cured dead dead well live seen seen now wit seen lie decays thence in sweet most dear great wit doth in weeds ill lie thence on thy sight is ' thee so dead is heart doth ill not free thy gain hath shine bright back seen told him hence in stay rolling rolling greater lie hate to loveliness sweet ' best so so not not lies or ill free old are free lost so gone behind in of hope behind my deserving men rehearse thy wit fled or thy verse doth cross brought appear appear woe dead lie decays on thence not of thee so so thy when in latch belongs to stand in appear appear decays decays ' bent in thy pain\n"
     ]
    }
   ],
   "source": [
    "seed_str = \"Hello my name is Luke\"\n",
    "\n",
    "for _ in range(1000):\n",
    "\ttoken_list = tokenizer.texts_to_sequences([seed_str])[0]\n",
    "\ttoken_list = pad_sequences([token_list], maxlen=max_seq_len-1, padding='pre')\n",
    "\tpredicted = model.predict_classes(token_list, verbose=0)\n",
    "\toutput_word = \"\"\n",
    "\tfor word, index in tokenizer.word_index.items():\n",
    "\t\tif index == predicted:\n",
    "\t\t\toutput_word = word\n",
    "\t\t\tbreak\n",
    "\tseed_str += \" \" + output_word\n",
    "print(seed_str)"
   ]
  }
 ],
 "metadata": {
  "colab": {
   "name": "shakespeare.ipynb",
   "provenance": []
  },
  "kernelspec": {
   "display_name": "Python 3",
   "language": "python",
   "name": "python3"
  },
  "language_info": {
   "codemirror_mode": {
    "name": "ipython",
    "version": 3
   },
   "file_extension": ".py",
   "mimetype": "text/x-python",
   "name": "python",
   "nbconvert_exporter": "python",
   "pygments_lexer": "ipython3",
   "version": "3.8.6"
  }
 },
 "nbformat": 4,
 "nbformat_minor": 1
}
